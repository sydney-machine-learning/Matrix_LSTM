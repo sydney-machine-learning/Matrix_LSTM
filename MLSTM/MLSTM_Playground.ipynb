{
 "metadata": {
  "language_info": {
   "codemirror_mode": {
    "name": "ipython",
    "version": 3
   },
   "file_extension": ".py",
   "mimetype": "text/x-python",
   "name": "python",
   "nbconvert_exporter": "python",
   "pygments_lexer": "ipython3",
   "version": "3.7.10"
  },
  "orig_nbformat": 4,
  "kernelspec": {
   "name": "python3",
   "display_name": "Python 3.7.10 64-bit ('base': conda)"
  },
  "interpreter": {
   "hash": "98b0a9b7b4eaaa670588a142fd0a9b87eaafe866f1db4228be72b4211d12040f"
  }
 },
 "nbformat": 4,
 "nbformat_minor": 2,
 "cells": [
  {
   "cell_type": "code",
   "execution_count": 4,
   "metadata": {},
   "outputs": [],
   "source": [
    "import torch\n",
    "import torch.nn as nn\n",
    "import torch.nn.functional as F\n",
    "import numpy as np\n",
    "from sklearn.preprocessing import MinMaxScaler\n",
    "from torch.utils.data import Dataset\n",
    "from torch.utils.data import DataLoader\n",
    "import pandas as pd\n",
    "import matplotlib.pyplot as plt"
   ]
  },
  {
   "cell_type": "code",
   "execution_count": 6,
   "metadata": {},
   "outputs": [],
   "source": [
    "train_df = pd.read_csv(r'../data/South_Indian_Ocean/south_indian_ocean_processedtrain1985-2001.txt', delimiter = \",\", header = None, names =['id', 'date', 'longitude', 'latitude', 'speed'])\n",
    "test_df = pd.read_csv(r'../data/South_Indian_Ocean/south_indian_ocean_processedtest2006-2013.txt', delimiter = \",\", header = None, names =['id', 'date', 'longitude', 'latitude', 'speed'])"
   ]
  },
  {
   "cell_type": "code",
   "execution_count": 7,
   "metadata": {},
   "outputs": [
    {
     "output_type": "execute_result",
     "data": {
      "text/plain": [
       "   id        date  longitude  latitude  speed\n",
       "0   1  1984110906        0.0       0.0     20\n",
       "1   1  1984110912        0.4      -1.0     20\n",
       "2   1  1984110918        0.8      -2.1     25\n",
       "3   1  1984111000        1.1      -3.2     25\n",
       "4   1  1984111006        1.3      -4.3     30"
      ],
      "text/html": "<div>\n<style scoped>\n    .dataframe tbody tr th:only-of-type {\n        vertical-align: middle;\n    }\n\n    .dataframe tbody tr th {\n        vertical-align: top;\n    }\n\n    .dataframe thead th {\n        text-align: right;\n    }\n</style>\n<table border=\"1\" class=\"dataframe\">\n  <thead>\n    <tr style=\"text-align: right;\">\n      <th></th>\n      <th>id</th>\n      <th>date</th>\n      <th>longitude</th>\n      <th>latitude</th>\n      <th>speed</th>\n    </tr>\n  </thead>\n  <tbody>\n    <tr>\n      <th>0</th>\n      <td>1</td>\n      <td>1984110906</td>\n      <td>0.0</td>\n      <td>0.0</td>\n      <td>20</td>\n    </tr>\n    <tr>\n      <th>1</th>\n      <td>1</td>\n      <td>1984110912</td>\n      <td>0.4</td>\n      <td>-1.0</td>\n      <td>20</td>\n    </tr>\n    <tr>\n      <th>2</th>\n      <td>1</td>\n      <td>1984110918</td>\n      <td>0.8</td>\n      <td>-2.1</td>\n      <td>25</td>\n    </tr>\n    <tr>\n      <th>3</th>\n      <td>1</td>\n      <td>1984111000</td>\n      <td>1.1</td>\n      <td>-3.2</td>\n      <td>25</td>\n    </tr>\n    <tr>\n      <th>4</th>\n      <td>1</td>\n      <td>1984111006</td>\n      <td>1.3</td>\n      <td>-4.3</td>\n      <td>30</td>\n    </tr>\n  </tbody>\n</table>\n</div>"
     },
     "metadata": {},
     "execution_count": 7
    }
   ],
   "source": [
    "train_df.head()"
   ]
  },
  {
   "cell_type": "code",
   "execution_count": 8,
   "metadata": {},
   "outputs": [],
   "source": [
    "#The 2 lists below will be used for plotting the graphs\n",
    "act=[]                         \n",
    "predf=[]\n",
    "for i in range(0, 6):\n",
    "    act.append([float(train_df['longitude'][i]),float(train_df['latitude'][i])])\n",
    "    predf.append([float(train_df['longitude'][i]),float(train_df['latitude'][i])])\n",
    "\n",
    "scaler = MinMaxScaler(feature_range=(-1, 1))\n",
    "train_df['longitude'] = pd.to_numeric(train_df['longitude'], downcast=\"float\")\n",
    "train_df['latitude'] = pd.to_numeric(train_df['latitude'], downcast=\"float\")\n",
    "train_df[['longitude','latitude']] = scaler.fit_transform(train_df[['longitude','latitude']])\n",
    "train_data = []\n",
    "num_sample = 7    #6 datapoints + 1 prediction value\n",
    "\n",
    "for i in range(0, train_df.shape[0]-num_sample):\n",
    "    if train_df['id'][i]==train_df['id'][i+num_sample-1]:\n",
    "        curr=[]\n",
    "        for j in range(num_sample):\n",
    "            curr.append([float(train_df['longitude'][i+j]),float(train_df['latitude'][i+j])])\n",
    "        train_data.append(curr)"
   ]
  },
  {
   "cell_type": "code",
   "execution_count": 12,
   "metadata": {},
   "outputs": [
    {
     "output_type": "execute_result",
     "data": {
      "text/plain": [
       "[[-0.7088949084281921, 0.4270557165145874],\n",
       " [-0.6873315572738647, 0.4093722403049469],\n",
       " [-0.6657682061195374, 0.3899204432964325],\n",
       " [-0.6495957374572754, 0.3704686164855957],\n",
       " [-0.6388140320777893, 0.3510168194770813],\n",
       " [-0.6334232091903687, 0.3297966420650482],\n",
       " [-0.6226415634155273, 0.3085764944553375]]"
      ]
     },
     "metadata": {},
     "execution_count": 12
    }
   ],
   "source": [
    "train_data[0]"
   ]
  },
  {
   "cell_type": "code",
   "execution_count": null,
   "metadata": {},
   "outputs": [],
   "source": []
  }
 ]
}